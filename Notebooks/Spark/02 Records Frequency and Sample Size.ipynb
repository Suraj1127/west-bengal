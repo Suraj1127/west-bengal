{"cells":[{"cell_type":"markdown","source":["# Spark notebook for sample size statistics"],"metadata":{"application/vnd.databricks.v1+cell":{"title":"","showTitle":false,"inputWidgets":{},"nuid":"56c91d3f-b600-43c0-a1ce-593565414f03"}}},{"cell_type":"code","source":["import os\nos.listdir('/dbfs/mnt/CUBEIQ/esapv/India/West Bengal/Amphan/Daily')"],"metadata":{"application/vnd.databricks.v1+cell":{"title":"","showTitle":false,"inputWidgets":{},"nuid":"4eb74880-b81a-4f4b-b8f2-22dc86403c22"}},"outputs":[{"output_type":"display_data","metadata":{"application/vnd.databricks.v1+output":{"datasetInfos":[],"data":"<div class=\"ansiout\">Out[14]: [&#39;2020_05_19&#39;,\n &#39;2020_05_20&#39;,\n &#39;2020_05_21&#39;,\n &#39;2020_05_22&#39;,\n &#39;2020_05_23&#39;,\n &#39;2020_05_24&#39;,\n &#39;2020_05_25&#39;]</div>","removedWidgets":[],"addedWidgets":{},"metadata":{},"type":"html","arguments":{}}},"output_type":"display_data","data":{"text/html":["<style scoped>\n  .ansiout {\n    display: block;\n    unicode-bidi: embed;\n    white-space: pre-wrap;\n    word-wrap: break-word;\n    word-break: break-all;\n    font-family: \"Source Code Pro\", \"Menlo\", monospace;;\n    font-size: 13px;\n    color: #555;\n    margin-left: 4px;\n    line-height: 19px;\n  }\n</style>\n<div class=\"ansiout\">Out[14]: [&#39;2020_05_19&#39;,\n &#39;2020_05_20&#39;,\n &#39;2020_05_21&#39;,\n &#39;2020_05_22&#39;,\n &#39;2020_05_23&#39;,\n &#39;2020_05_24&#39;,\n &#39;2020_05_25&#39;]</div>"]}}],"execution_count":0},{"cell_type":"markdown","source":["### Installing and importing the Python/PySpark libraries"],"metadata":{"application/vnd.databricks.v1+cell":{"title":"","showTitle":false,"inputWidgets":{},"nuid":"99be4b48-3ee8-485e-829f-9085c000d691"}}},{"cell_type":"code","source":["# install and import all the required Python/PySpark libraries\n# Note that geospark must be installed here itself before registering Scala libraries below\n\n!pip install geopandas\n!pip install geospark\n!pip install plotly\n!pip install pymobility\n\nimport time\nimport calendar\nfrom datetime import datetime, date\nimport pandas as pd\nimport geopandas as gp\nimport plotly.express as px\n\nfrom pyspark.sql import functions as F\n\nfrom mobility.eda.mobility_summary import MobilitySummary\nfrom mobility.odm.utils import extract"],"metadata":{"application/vnd.databricks.v1+cell":{"title":"","showTitle":false,"inputWidgets":{},"nuid":"1964d61d-8f5e-45a0-82dc-72fb09c233bd"}},"outputs":[{"output_type":"display_data","metadata":{"application/vnd.databricks.v1+output":{"datasetInfos":[],"data":"<div class=\"ansiout\"></div>","removedWidgets":[],"addedWidgets":{},"metadata":{},"type":"html","arguments":{}}},"output_type":"display_data","data":{"text/html":["<style scoped>\n  .ansiout {\n    display: block;\n    unicode-bidi: embed;\n    white-space: pre-wrap;\n    word-wrap: break-word;\n    word-break: break-all;\n    font-family: \"Source Code Pro\", \"Menlo\", monospace;;\n    font-size: 13px;\n    color: #555;\n    margin-left: 4px;\n    line-height: 19px;\n  }\n</style>\n<div class=\"ansiout\"></div>"]}}],"execution_count":0},{"cell_type":"markdown","source":["### Importing the geospark libraries"],"metadata":{"application/vnd.databricks.v1+cell":{"title":"","showTitle":false,"inputWidgets":{},"nuid":"ec6fd701-2c16-4d93-9485-65793f95aae1"}}},{"cell_type":"code","source":["%scala\n\n// import the necessary libraries, packages for geospark\n\nimport com.vividsolutions.jts.geom.{Coordinate, Geometry, GeometryFactory}\nimport org.datasyslab.geospark.formatMapper.shapefileParser.ShapefileReader\nimport org.datasyslab.geospark.spatialRDD.SpatialRDD\nimport org.datasyslab.geosparksql.utils.{Adapter, GeoSparkSQLRegistrator}\nGeoSparkSQLRegistrator.registerAll(sqlContext)\n\n// enable delta cache for performance optimization\nspark.conf.set(\"spark.databricks.io.cache.enabled\", \"true\")"],"metadata":{"application/vnd.databricks.v1+cell":{"title":"","showTitle":false,"inputWidgets":{},"nuid":"d77b6490-2b9c-49af-bfd7-431906f84bbc"}},"outputs":[{"output_type":"display_data","metadata":{"application/vnd.databricks.v1+output":{"datasetInfos":[],"data":"<div class=\"ansiout\">import com.vividsolutions.jts.geom.{Coordinate, Geometry, GeometryFactory}\nimport org.datasyslab.geospark.formatMapper.shapefileParser.ShapefileReader\nimport org.datasyslab.geospark.spatialRDD.SpatialRDD\nimport org.datasyslab.geosparksql.utils.{Adapter, GeoSparkSQLRegistrator}\n</div>","removedWidgets":[],"addedWidgets":{},"metadata":{},"type":"html","arguments":{}}},"output_type":"display_data","data":{"text/html":["<style scoped>\n  .ansiout {\n    display: block;\n    unicode-bidi: embed;\n    white-space: pre-wrap;\n    word-wrap: break-word;\n    word-break: break-all;\n    font-family: \"Source Code Pro\", \"Menlo\", monospace;;\n    font-size: 13px;\n    color: #555;\n    margin-left: 4px;\n    line-height: 19px;\n  }\n</style>\n<div class=\"ansiout\">import com.vividsolutions.jts.geom.{Coordinate, Geometry, GeometryFactory}\nimport org.datasyslab.geospark.formatMapper.shapefileParser.ShapefileReader\nimport org.datasyslab.geospark.spatialRDD.SpatialRDD\nimport org.datasyslab.geosparksql.utils.{Adapter, GeoSparkSQLRegistrator}\n</div>"]}}],"execution_count":0},{"cell_type":"markdown","source":["### Defining the variables"],"metadata":{"application/vnd.databricks.v1+cell":{"title":"","showTitle":false,"inputWidgets":{},"nuid":"f5a1f065-ab28-4140-b3e5-9b3af54601a6"}}},{"cell_type":"code","source":["# define the variables using their respective values\nADMIN_LAYER_NAME = 'Admin3'\n\nINDIA_VERASET_DELTA_LOCATION = '/mnt/CUBEIQ/esapv/India/delta_veraset_v3'"],"metadata":{"application/vnd.databricks.v1+cell":{"title":"","showTitle":false,"inputWidgets":{},"nuid":"cd8dc05b-155a-4e5f-8e1a-4bc217536532"}},"outputs":[{"output_type":"display_data","metadata":{"application/vnd.databricks.v1+output":{"datasetInfos":[],"data":"<div class=\"ansiout\"></div>","removedWidgets":[],"addedWidgets":{},"metadata":{},"type":"html","arguments":{}}},"output_type":"display_data","data":{"text/html":["<style scoped>\n  .ansiout {\n    display: block;\n    unicode-bidi: embed;\n    white-space: pre-wrap;\n    word-wrap: break-word;\n    word-break: break-all;\n    font-family: \"Source Code Pro\", \"Menlo\", monospace;;\n    font-size: 13px;\n    color: #555;\n    margin-left: 4px;\n    line-height: 19px;\n  }\n</style>\n<div class=\"ansiout\"></div>"]}}],"execution_count":0},{"cell_type":"markdown","source":["### Records frequency computation"],"metadata":{"application/vnd.databricks.v1+cell":{"title":"","showTitle":false,"inputWidgets":{},"nuid":"cf9b4a20-a933-414c-9437-c40ce569b459"}}},{"cell_type":"code","source":["# instantiate the MobilitySummary object with None admin\nms = MobilitySummary(INDIA_VERASET_DELTA_LOCATION, adm_col=None)\n\n# filter for West Bengal\nms.sjr = ms.sjr.filter(sjr.adm1_code == '19')\n\n# extract data of just 2020\nms.sjr = ms.extract(ms.sjr, '2020/01/01', '2020/12/31')\n\n# generate the frequency table\nfrequency_table = ms.get_frequency_map()\n\n# convert the frequency table to pandas dataframe\nf_df = frequency_table.toPandas()\n\n# save to a CSV file\nf_df.to_csv('/dbfs/mnt/CUBEIQ/esapv/India/West Bengal/frequency_map_2020.csv', index=False)"],"metadata":{"application/vnd.databricks.v1+cell":{"title":"","showTitle":false,"inputWidgets":{},"nuid":"f864fc39-3193-4452-9955-921589b634a2"}},"outputs":[{"output_type":"display_data","metadata":{"application/vnd.databricks.v1+output":{"datasetInfos":[],"data":"<div class=\"ansiout\"></div>","removedWidgets":[],"addedWidgets":{},"metadata":{},"type":"html","arguments":{}}},"output_type":"display_data","data":{"text/html":["<style scoped>\n  .ansiout {\n    display: block;\n    unicode-bidi: embed;\n    white-space: pre-wrap;\n    word-wrap: break-word;\n    word-break: break-all;\n    font-family: \"Source Code Pro\", \"Menlo\", monospace;;\n    font-size: 13px;\n    color: #555;\n    margin-left: 4px;\n    line-height: 19px;\n  }\n</style>\n<div class=\"ansiout\"></div>"]}},{"output_type":"display_data","metadata":{"application/vnd.databricks.v1+output":{"data":"<div class=\"ansiout\"><span class=\"ansi-red-fg\">---------------------------------------------------------------------------</span>\n<span class=\"ansi-red-fg\">NameError</span>                                 Traceback (most recent call last)\n<span class=\"ansi-green-fg\">&lt;command-2381087211507932&gt;</span> in <span class=\"ansi-cyan-fg\">&lt;module&gt;</span>\n<span class=\"ansi-green-fg\">----&gt; 1</span><span class=\"ansi-red-fg\"> </span>pri\n<span class=\"ansi-green-intense-fg ansi-bold\">      2</span> <span class=\"ansi-red-fg\"># instantiate the MobilitySummary object with None admin</span>\n<span class=\"ansi-green-intense-fg ansi-bold\">      3</span> ms <span class=\"ansi-blue-fg\">=</span> MobilitySummary<span class=\"ansi-blue-fg\">(</span>INDIA_VERASET_DELTA_LOCATION<span class=\"ansi-blue-fg\">,</span> adm_col<span class=\"ansi-blue-fg\">=</span><span class=\"ansi-green-fg\">None</span><span class=\"ansi-blue-fg\">)</span>\n<span class=\"ansi-green-intense-fg ansi-bold\">      4</span> \n<span class=\"ansi-green-intense-fg ansi-bold\">      5</span> <span class=\"ansi-red-fg\"># filter for West Bengal</span>\n\n<span class=\"ansi-red-fg\">NameError</span>: name &#39;pri&#39; is not defined</div>","errorSummary":"<span class=\"ansi-red-fg\">NameError</span>: name &#39;pri&#39; is not defined","metadata":{},"type":"ipynbError","arguments":{}}},"output_type":"display_data","data":{"text/html":["<style scoped>\n  .ansiout {\n    display: block;\n    unicode-bidi: embed;\n    white-space: pre-wrap;\n    word-wrap: break-word;\n    word-break: break-all;\n    font-family: \"Source Code Pro\", \"Menlo\", monospace;;\n    font-size: 13px;\n    color: #555;\n    margin-left: 4px;\n    line-height: 19px;\n  }\n</style>\n<div class=\"ansiout\"><span class=\"ansi-red-fg\">---------------------------------------------------------------------------</span>\n<span class=\"ansi-red-fg\">NameError</span>                                 Traceback (most recent call last)\n<span class=\"ansi-green-fg\">&lt;command-2381087211507932&gt;</span> in <span class=\"ansi-cyan-fg\">&lt;module&gt;</span>\n<span class=\"ansi-green-fg\">----&gt; 1</span><span class=\"ansi-red-fg\"> </span>pri\n<span class=\"ansi-green-intense-fg ansi-bold\">      2</span> <span class=\"ansi-red-fg\"># instantiate the MobilitySummary object with None admin</span>\n<span class=\"ansi-green-intense-fg ansi-bold\">      3</span> ms <span class=\"ansi-blue-fg\">=</span> MobilitySummary<span class=\"ansi-blue-fg\">(</span>INDIA_VERASET_DELTA_LOCATION<span class=\"ansi-blue-fg\">,</span> adm_col<span class=\"ansi-blue-fg\">=</span><span class=\"ansi-green-fg\">None</span><span class=\"ansi-blue-fg\">)</span>\n<span class=\"ansi-green-intense-fg ansi-bold\">      4</span> \n<span class=\"ansi-green-intense-fg ansi-bold\">      5</span> <span class=\"ansi-red-fg\"># filter for West Bengal</span>\n\n<span class=\"ansi-red-fg\">NameError</span>: name &#39;pri&#39; is not defined</div>"]}}],"execution_count":0},{"cell_type":"markdown","source":["### Unique devices per admin computation (Annual)"],"metadata":{"application/vnd.databricks.v1+cell":{"title":"","showTitle":false,"inputWidgets":{},"nuid":"50aa702b-fb53-4ac3-a600-99383e298a11"}}},{"cell_type":"code","source":["# admin level at which we are computing number of unique devices\nadmin = \"adm2_code\"\n\n# create instance of MobilitySummary and get spark od_matrix\n# as we are computing at annual level, we take 6 records filter\nms = MobilitySummary(INDIA_VERASET_DELTA_LOCATION, admin, quality_filter=6, spark=spark)\n\n# filtering for just West Bengal\nms.sjr = ms.sjr.filter(ms.sjr.adm1_code == '19')\n\n# computing number of unique devices in 2020\nadm_samples = ms.get_devices_per_admin(\"2020/01/01\", \"2020/12/31\")\n\n# converting to pandas DataFrame and saving it to further produce charts\ndf = adm_samples.toPandas()\ndf.to_csv('/dbfs/mnt/CUBEIQ/esapv/India/West Bengal/annual_unique_devices_per_admin_2020.csv', index=False)"],"metadata":{"application/vnd.databricks.v1+cell":{"title":"","showTitle":false,"inputWidgets":{},"nuid":"09739c56-a13a-467f-ad68-f380cb835237"}},"outputs":[{"output_type":"display_data","metadata":{"application/vnd.databricks.v1+output":{"datasetInfos":[{"name":"adm_samples","typeStr":"pyspark.sql.dataframe.DataFrame","schema":{"fields":[{"metadata":{},"name":"adm2_code","nullable":true,"type":"string"},{"metadata":{},"name":"unique_devices","nullable":false,"type":"long"}],"type":"struct"},"tableIdentifier":null}],"data":"<div class=\"ansiout\"></div>","removedWidgets":[],"addedWidgets":{},"metadata":{},"type":"html","arguments":{}}},"output_type":"display_data","data":{"text/html":["<style scoped>\n  .ansiout {\n    display: block;\n    unicode-bidi: embed;\n    white-space: pre-wrap;\n    word-wrap: break-word;\n    word-break: break-all;\n    font-family: \"Source Code Pro\", \"Menlo\", monospace;;\n    font-size: 13px;\n    color: #555;\n    margin-left: 4px;\n    line-height: 19px;\n  }\n</style>\n<div class=\"ansiout\"></div>"]}}],"execution_count":0},{"cell_type":"markdown","source":["### Unique devices per admin computation (Monthly)"],"metadata":{"application/vnd.databricks.v1+cell":{"title":"","showTitle":false,"inputWidgets":{},"nuid":"4a4a0ef5-b375-4218-a38e-79e86f5e3f67"}}},{"cell_type":"code","source":["# admin level at which we are computing number of unique devices\nadmin = \"adm2_code\"\n\n# create instance of MobilitySummary\n# we are using 3 records filter as it is monthly analysis\nms = MobilitySummary(INDIA_VERASET_DELTA_LOCATION, admin, quality_filter=3, spark=spark)\n\n# filtering for just West Bengal\nms.sjr = ms.sjr.filter(ms.sjr.adm1_code == '19')\n\n# pandas master dataframe to store all the months statistics   \nmaster_df = pd.DataFrame()\n\n# looping over all the months, January to December\nfor i in range(1, 13):\n  num_days = calendar.monthrange(2020, i)[1]\n  from_date = f\"2020/{str(i).zfill(2)}/01\"\n  to_date = f\"2020/{str(i).zfill(2)}/{num_days}\"\n  \n  # get number of unique devices per admin in the given interval range\n  adm_samples = ms.get_devices_per_admin(from_date, to_date)\n  \n  # convert spark dataframe to pandas dataframe and concat it in the master dataframe\n  df = adm_samples.toPandas()\n  df['month'] = i\n  \n  if master_df.empty:\n    master_df = df\n  else:\n    master_df = pd.concat([master_df, df])\n\n# export master dataframe\nmaster_df.to_csv('/dbfs/mnt/CUBEIQ/esapv/India/monthly_unique_devices_per_admin_2020.csv', index=False)"],"metadata":{"application/vnd.databricks.v1+cell":{"title":"","showTitle":false,"inputWidgets":{},"nuid":"2f8cc09f-78f1-4a48-9f89-ad136dc267cd"}},"outputs":[{"output_type":"display_data","metadata":{"application/vnd.databricks.v1+output":{"datasetInfos":[{"name":"adm_samples","typeStr":"pyspark.sql.dataframe.DataFrame","schema":{"fields":[{"metadata":{},"name":"adm2_code","nullable":true,"type":"string"},{"metadata":{},"name":"unique_devices","nullable":false,"type":"long"}],"type":"struct"},"tableIdentifier":null}],"data":"<div class=\"ansiout\"></div>","removedWidgets":[],"addedWidgets":{},"metadata":{},"type":"html","arguments":{}}},"output_type":"display_data","data":{"text/html":["<style scoped>\n  .ansiout {\n    display: block;\n    unicode-bidi: embed;\n    white-space: pre-wrap;\n    word-wrap: break-word;\n    word-break: break-all;\n    font-family: \"Source Code Pro\", \"Menlo\", monospace;;\n    font-size: 13px;\n    color: #555;\n    margin-left: 4px;\n    line-height: 19px;\n  }\n</style>\n<div class=\"ansiout\"></div>"]}}],"execution_count":0}],"metadata":{"application/vnd.databricks.v1+notebook":{"notebookName":"01 Records Frequency and Sample Size","dashboards":[],"notebookMetadata":{"pythonIndentUnit":2},"language":"python","widgets":{},"notebookOrigID":2381087211507870}},"nbformat":4,"nbformat_minor":0}
=======
{
 "cells": [
  {
   "cell_type": "markdown",
   "metadata": {
    "application/vnd.databricks.v1+cell": {
     "inputWidgets": {},
     "nuid": "56c91d3f-b600-43c0-a1ce-593565414f03",
     "showTitle": false,
     "title": ""
    }
   },
   "source": [
    "# Spark notebook for sample size statistics"
   ]
  },
  {
   "cell_type": "markdown",
   "metadata": {
    "application/vnd.databricks.v1+cell": {
     "inputWidgets": {},
     "nuid": "99be4b48-3ee8-485e-829f-9085c000d691",
     "showTitle": false,
     "title": ""
    }
   },
   "source": [
    "### Installing and importing the Python/PySpark libraries"
   ]
  },
  {
   "cell_type": "code",
   "execution_count": null,
   "metadata": {
    "application/vnd.databricks.v1+cell": {
     "inputWidgets": {},
     "nuid": "1964d61d-8f5e-45a0-82dc-72fb09c233bd",
     "showTitle": false,
     "title": ""
    }
   },
   "outputs": [
    {
     "data": {
      "text/html": [
       "<style scoped>\n",
       "  .ansiout {\n",
       "    display: block;\n",
       "    unicode-bidi: embed;\n",
       "    white-space: pre-wrap;\n",
       "    word-wrap: break-word;\n",
       "    word-break: break-all;\n",
       "    font-family: \"Source Code Pro\", \"Menlo\", monospace;;\n",
       "    font-size: 13px;\n",
       "    color: #555;\n",
       "    margin-left: 4px;\n",
       "    line-height: 19px;\n",
       "  }\n",
       "</style>\n",
       "<div class=\"ansiout\"></div>"
      ]
     },
     "metadata": {
      "application/vnd.databricks.v1+output": {
       "addedWidgets": {},
       "arguments": {},
       "data": "<div class=\"ansiout\"></div>",
       "datasetInfos": [],
       "metadata": {},
       "removedWidgets": [],
       "type": "html"
      }
     },
     "output_type": "display_data"
    },
    {
     "data": {
      "text/html": [
       "<style scoped>\n",
       "  .ansiout {\n",
       "    display: block;\n",
       "    unicode-bidi: embed;\n",
       "    white-space: pre-wrap;\n",
       "    word-wrap: break-word;\n",
       "    word-break: break-all;\n",
       "    font-family: \"Source Code Pro\", \"Menlo\", monospace;;\n",
       "    font-size: 13px;\n",
       "    color: #555;\n",
       "    margin-left: 4px;\n",
       "    line-height: 19px;\n",
       "  }\n",
       "</style>\n",
       "<div class=\"ansiout\"><span class=\"ansi-red-fg\">---------------------------------------------------------------------------</span>\n",
       "<span class=\"ansi-red-fg\">ImportError</span>                               Traceback (most recent call last)\n",
       "<span class=\"ansi-green-fg\">&lt;command-2381087211507871&gt;</span> in <span class=\"ansi-cyan-fg\">&lt;module&gt;</span>\n",
       "<span class=\"ansi-green-intense-fg ansi-bold\">     17</span> \n",
       "<span class=\"ansi-green-intense-fg ansi-bold\">     18</span> <span class=\"ansi-green-fg\">from</span> mobility<span class=\"ansi-blue-fg\">.</span>eda<span class=\"ansi-blue-fg\">.</span>mobility_summary <span class=\"ansi-green-fg\">import</span> MobilitySummary\n",
       "<span class=\"ansi-green-fg\">---&gt; 19</span><span class=\"ansi-red-fg\"> </span><span class=\"ansi-green-fg\">from</span> mobility<span class=\"ansi-blue-fg\">.</span>odm<span class=\"ansi-blue-fg\">.</span>utils <span class=\"ansi-green-fg\">import</span> extract\n",
       "\n",
       "<span class=\"ansi-red-fg\">ImportError</span>: cannot import name &#39;extract&#39; from &#39;mobility.odm.utils&#39; (/databricks/python/lib/python3.7/site-packages/mobility/odm/utils.py)</div>"
      ]
     },
     "metadata": {
      "application/vnd.databricks.v1+output": {
       "arguments": {},
       "data": "<div class=\"ansiout\"><span class=\"ansi-red-fg\">---------------------------------------------------------------------------</span>\n<span class=\"ansi-red-fg\">ImportError</span>                               Traceback (most recent call last)\n<span class=\"ansi-green-fg\">&lt;command-2381087211507871&gt;</span> in <span class=\"ansi-cyan-fg\">&lt;module&gt;</span>\n<span class=\"ansi-green-intense-fg ansi-bold\">     17</span> \n<span class=\"ansi-green-intense-fg ansi-bold\">     18</span> <span class=\"ansi-green-fg\">from</span> mobility<span class=\"ansi-blue-fg\">.</span>eda<span class=\"ansi-blue-fg\">.</span>mobility_summary <span class=\"ansi-green-fg\">import</span> MobilitySummary\n<span class=\"ansi-green-fg\">---&gt; 19</span><span class=\"ansi-red-fg\"> </span><span class=\"ansi-green-fg\">from</span> mobility<span class=\"ansi-blue-fg\">.</span>odm<span class=\"ansi-blue-fg\">.</span>utils <span class=\"ansi-green-fg\">import</span> extract\n\n<span class=\"ansi-red-fg\">ImportError</span>: cannot import name &#39;extract&#39; from &#39;mobility.odm.utils&#39; (/databricks/python/lib/python3.7/site-packages/mobility/odm/utils.py)</div>",
       "errorSummary": "<span class=\"ansi-red-fg\">ImportError</span>: cannot import name &#39;extract&#39; from &#39;mobility.odm.utils&#39; (/databricks/python/lib/python3.7/site-packages/mobility/odm/utils.py)",
       "metadata": {},
       "type": "ipynbError"
      }
     },
     "output_type": "display_data"
    }
   ],
   "source": [
    "# install and import all the required Python/PySpark libraries\n",
    "# Note that geospark must be installed here itself before registering Scala libraries below\n",
    "\n",
    "!pip install geopandas\n",
    "!pip install geospark\n",
    "!pip install plotly\n",
    "!pip install pymobility\n",
    "\n",
    "import time\n",
    "import calendar\n",
    "from datetime import datetime, date\n",
    "import pandas as pd\n",
    "import geopandas as gp\n",
    "import plotly.express as px\n",
    "\n",
    "from pyspark.sql import functions as F\n",
    "\n",
    "from mobility.eda.mobility_summary import MobilitySummary\n",
    "from mobility.odm.utils import extract"
   ]
  },
  {
   "cell_type": "markdown",
   "metadata": {
    "application/vnd.databricks.v1+cell": {
     "inputWidgets": {},
     "nuid": "ec6fd701-2c16-4d93-9485-65793f95aae1",
     "showTitle": false,
     "title": ""
    }
   },
   "source": [
    "### Importing the geospark libraries"
   ]
  },
  {
   "cell_type": "code",
   "execution_count": null,
   "metadata": {
    "application/vnd.databricks.v1+cell": {
     "inputWidgets": {},
     "nuid": "d77b6490-2b9c-49af-bfd7-431906f84bbc",
     "showTitle": false,
     "title": ""
    }
   },
   "outputs": [
    {
     "data": {
      "text/html": [
       "<style scoped>\n",
       "  .ansiout {\n",
       "    display: block;\n",
       "    unicode-bidi: embed;\n",
       "    white-space: pre-wrap;\n",
       "    word-wrap: break-word;\n",
       "    word-break: break-all;\n",
       "    font-family: \"Source Code Pro\", \"Menlo\", monospace;;\n",
       "    font-size: 13px;\n",
       "    color: #555;\n",
       "    margin-left: 4px;\n",
       "    line-height: 19px;\n",
       "  }\n",
       "</style>\n",
       "<div class=\"ansiout\">import com.vividsolutions.jts.geom.{Coordinate, Geometry, GeometryFactory}\n",
       "import org.datasyslab.geospark.formatMapper.shapefileParser.ShapefileReader\n",
       "import org.datasyslab.geospark.spatialRDD.SpatialRDD\n",
       "import org.datasyslab.geosparksql.utils.{Adapter, GeoSparkSQLRegistrator}\n",
       "</div>"
      ]
     },
     "metadata": {
      "application/vnd.databricks.v1+output": {
       "addedWidgets": {},
       "arguments": {},
       "data": "<div class=\"ansiout\">import com.vividsolutions.jts.geom.{Coordinate, Geometry, GeometryFactory}\nimport org.datasyslab.geospark.formatMapper.shapefileParser.ShapefileReader\nimport org.datasyslab.geospark.spatialRDD.SpatialRDD\nimport org.datasyslab.geosparksql.utils.{Adapter, GeoSparkSQLRegistrator}\n</div>",
       "datasetInfos": [],
       "metadata": {},
       "removedWidgets": [],
       "type": "html"
      }
     },
     "output_type": "display_data"
    }
   ],
   "source": [
    "%scala\n",
    "\n",
    "// import the necessary libraries, packages for geospark\n",
    "\n",
    "import com.vividsolutions.jts.geom.{Coordinate, Geometry, GeometryFactory}\n",
    "import org.datasyslab.geospark.formatMapper.shapefileParser.ShapefileReader\n",
    "import org.datasyslab.geospark.spatialRDD.SpatialRDD\n",
    "import org.datasyslab.geosparksql.utils.{Adapter, GeoSparkSQLRegistrator}\n",
    "GeoSparkSQLRegistrator.registerAll(sqlContext)\n",
    "\n",
    "// enable delta cache for performance optimization\n",
    "spark.conf.set(\"spark.databricks.io.cache.enabled\", \"true\")"
   ]
  },
  {
   "cell_type": "markdown",
   "metadata": {
    "application/vnd.databricks.v1+cell": {
     "inputWidgets": {},
     "nuid": "f5a1f065-ab28-4140-b3e5-9b3af54601a6",
     "showTitle": false,
     "title": ""
    }
   },
   "source": [
    "### Defining the variables"
   ]
  },
  {
   "cell_type": "code",
   "execution_count": null,
   "metadata": {
    "application/vnd.databricks.v1+cell": {
     "inputWidgets": {},
     "nuid": "cd8dc05b-155a-4e5f-8e1a-4bc217536532",
     "showTitle": false,
     "title": ""
    }
   },
   "outputs": [
    {
     "data": {
      "text/html": [
       "<style scoped>\n",
       "  .ansiout {\n",
       "    display: block;\n",
       "    unicode-bidi: embed;\n",
       "    white-space: pre-wrap;\n",
       "    word-wrap: break-word;\n",
       "    word-break: break-all;\n",
       "    font-family: \"Source Code Pro\", \"Menlo\", monospace;;\n",
       "    font-size: 13px;\n",
       "    color: #555;\n",
       "    margin-left: 4px;\n",
       "    line-height: 19px;\n",
       "  }\n",
       "</style>\n",
       "<div class=\"ansiout\"></div>"
      ]
     },
     "metadata": {
      "application/vnd.databricks.v1+output": {
       "addedWidgets": {},
       "arguments": {},
       "data": "<div class=\"ansiout\"></div>",
       "datasetInfos": [],
       "metadata": {},
       "removedWidgets": [],
       "type": "html"
      }
     },
     "output_type": "display_data"
    }
   ],
   "source": [
    "# define the variables using their respective values\n",
    "ADMIN_LAYER_NAME = 'Admin3'\n",
    "\n",
    "INDIA_VERASET_DELTA_LOCATION = '/mnt/CUBEIQ/esapv/India/delta_veraset_v3'"
   ]
  },
  {
   "cell_type": "markdown",
   "metadata": {
    "application/vnd.databricks.v1+cell": {
     "inputWidgets": {},
     "nuid": "cf9b4a20-a933-414c-9437-c40ce569b459",
     "showTitle": false,
     "title": ""
    }
   },
   "source": [
    "### Records frequency computation"
   ]
  },
  {
   "cell_type": "code",
   "execution_count": null,
   "metadata": {
    "application/vnd.databricks.v1+cell": {
     "inputWidgets": {},
     "nuid": "f864fc39-3193-4452-9955-921589b634a2",
     "showTitle": false,
     "title": ""
    }
   },
   "outputs": [
    {
     "data": {
      "text/html": [
       "<style scoped>\n",
       "  .ansiout {\n",
       "    display: block;\n",
       "    unicode-bidi: embed;\n",
       "    white-space: pre-wrap;\n",
       "    word-wrap: break-word;\n",
       "    word-break: break-all;\n",
       "    font-family: \"Source Code Pro\", \"Menlo\", monospace;;\n",
       "    font-size: 13px;\n",
       "    color: #555;\n",
       "    margin-left: 4px;\n",
       "    line-height: 19px;\n",
       "  }\n",
       "</style>\n",
       "<div class=\"ansiout\"></div>"
      ]
     },
     "metadata": {
      "application/vnd.databricks.v1+output": {
       "addedWidgets": {},
       "arguments": {},
       "data": "<div class=\"ansiout\"></div>",
       "datasetInfos": [],
       "metadata": {},
       "removedWidgets": [],
       "type": "html"
      }
     },
     "output_type": "display_data"
    },
    {
     "data": {
      "text/html": [
       "<style scoped>\n",
       "  .ansiout {\n",
       "    display: block;\n",
       "    unicode-bidi: embed;\n",
       "    white-space: pre-wrap;\n",
       "    word-wrap: break-word;\n",
       "    word-break: break-all;\n",
       "    font-family: \"Source Code Pro\", \"Menlo\", monospace;;\n",
       "    font-size: 13px;\n",
       "    color: #555;\n",
       "    margin-left: 4px;\n",
       "    line-height: 19px;\n",
       "  }\n",
       "</style>\n",
       "<div class=\"ansiout\"><span class=\"ansi-red-fg\">---------------------------------------------------------------------------</span>\n",
       "<span class=\"ansi-red-fg\">NameError</span>                                 Traceback (most recent call last)\n",
       "<span class=\"ansi-green-fg\">&lt;command-2381087211507932&gt;</span> in <span class=\"ansi-cyan-fg\">&lt;module&gt;</span>\n",
       "<span class=\"ansi-green-fg\">----&gt; 1</span><span class=\"ansi-red-fg\"> </span>pri\n",
       "<span class=\"ansi-green-intense-fg ansi-bold\">      2</span> <span class=\"ansi-red-fg\"># instantiate the MobilitySummary object with None admin</span>\n",
       "<span class=\"ansi-green-intense-fg ansi-bold\">      3</span> ms <span class=\"ansi-blue-fg\">=</span> MobilitySummary<span class=\"ansi-blue-fg\">(</span>INDIA_VERASET_DELTA_LOCATION<span class=\"ansi-blue-fg\">,</span> adm_col<span class=\"ansi-blue-fg\">=</span><span class=\"ansi-green-fg\">None</span><span class=\"ansi-blue-fg\">)</span>\n",
       "<span class=\"ansi-green-intense-fg ansi-bold\">      4</span> \n",
       "<span class=\"ansi-green-intense-fg ansi-bold\">      5</span> <span class=\"ansi-red-fg\"># filter for West Bengal</span>\n",
       "\n",
       "<span class=\"ansi-red-fg\">NameError</span>: name &#39;pri&#39; is not defined</div>"
      ]
     },
     "metadata": {
      "application/vnd.databricks.v1+output": {
       "arguments": {},
       "data": "<div class=\"ansiout\"><span class=\"ansi-red-fg\">---------------------------------------------------------------------------</span>\n<span class=\"ansi-red-fg\">NameError</span>                                 Traceback (most recent call last)\n<span class=\"ansi-green-fg\">&lt;command-2381087211507932&gt;</span> in <span class=\"ansi-cyan-fg\">&lt;module&gt;</span>\n<span class=\"ansi-green-fg\">----&gt; 1</span><span class=\"ansi-red-fg\"> </span>pri\n<span class=\"ansi-green-intense-fg ansi-bold\">      2</span> <span class=\"ansi-red-fg\"># instantiate the MobilitySummary object with None admin</span>\n<span class=\"ansi-green-intense-fg ansi-bold\">      3</span> ms <span class=\"ansi-blue-fg\">=</span> MobilitySummary<span class=\"ansi-blue-fg\">(</span>INDIA_VERASET_DELTA_LOCATION<span class=\"ansi-blue-fg\">,</span> adm_col<span class=\"ansi-blue-fg\">=</span><span class=\"ansi-green-fg\">None</span><span class=\"ansi-blue-fg\">)</span>\n<span class=\"ansi-green-intense-fg ansi-bold\">      4</span> \n<span class=\"ansi-green-intense-fg ansi-bold\">      5</span> <span class=\"ansi-red-fg\"># filter for West Bengal</span>\n\n<span class=\"ansi-red-fg\">NameError</span>: name &#39;pri&#39; is not defined</div>",
       "errorSummary": "<span class=\"ansi-red-fg\">NameError</span>: name &#39;pri&#39; is not defined",
       "metadata": {},
       "type": "ipynbError"
      }
     },
     "output_type": "display_data"
    }
   ],
   "source": [
    "# instantiate the MobilitySummary object with None admin\n",
    "ms = MobilitySummary(INDIA_VERASET_DELTA_LOCATION, adm_col=None)\n",
    "\n",
    "# filter for West Bengal\n",
    "ms.sjr = ms.sjr.filter(sjr.adm1_code == '19')\n",
    "\n",
    "# extract data of just 2020\n",
    "ms.sjr = ms.extract(ms.sjr, '2020/01/01', '2020/12/31')\n",
    "\n",
    "# generate the frequency table\n",
    "frequency_table = ms.get_frequency_map()\n",
    "\n",
    "# convert the frequency table to pandas dataframe\n",
    "f_df = frequency_table.toPandas()\n",
    "\n",
    "# save to a CSV file\n",
    "f_df.to_csv('/dbfs/mnt/CUBEIQ/esapv/India/West Bengal/frequency_map_2020.csv', index=False)"
   ]
  },
  {
   "cell_type": "markdown",
   "metadata": {
    "application/vnd.databricks.v1+cell": {
     "inputWidgets": {},
     "nuid": "50aa702b-fb53-4ac3-a600-99383e298a11",
     "showTitle": false,
     "title": ""
    }
   },
   "source": [
    "### Unique devices per admin computation (Annual)"
   ]
  },
  {
   "cell_type": "code",
   "execution_count": null,
   "metadata": {
    "application/vnd.databricks.v1+cell": {
     "inputWidgets": {},
     "nuid": "09739c56-a13a-467f-ad68-f380cb835237",
     "showTitle": false,
     "title": ""
    }
   },
   "outputs": [
    {
     "data": {
      "text/html": [
       "<style scoped>\n",
       "  .ansiout {\n",
       "    display: block;\n",
       "    unicode-bidi: embed;\n",
       "    white-space: pre-wrap;\n",
       "    word-wrap: break-word;\n",
       "    word-break: break-all;\n",
       "    font-family: \"Source Code Pro\", \"Menlo\", monospace;;\n",
       "    font-size: 13px;\n",
       "    color: #555;\n",
       "    margin-left: 4px;\n",
       "    line-height: 19px;\n",
       "  }\n",
       "</style>\n",
       "<div class=\"ansiout\"></div>"
      ]
     },
     "metadata": {
      "application/vnd.databricks.v1+output": {
       "addedWidgets": {},
       "arguments": {},
       "data": "<div class=\"ansiout\"></div>",
       "datasetInfos": [
        {
         "name": "adm_samples",
         "schema": {
          "fields": [
           {
            "metadata": {},
            "name": "adm2_code",
            "nullable": true,
            "type": "string"
           },
           {
            "metadata": {},
            "name": "unique_devices",
            "nullable": false,
            "type": "long"
           }
          ],
          "type": "struct"
         },
         "tableIdentifier": null,
         "typeStr": "pyspark.sql.dataframe.DataFrame"
        }
       ],
       "metadata": {},
       "removedWidgets": [],
       "type": "html"
      }
     },
     "output_type": "display_data"
    }
   ],
   "source": [
    "# admin level at which we are computing number of unique devices\n",
    "admin = \"adm2_code\"\n",
    "\n",
    "# create instance of MobilitySummary and get spark od_matrix\n",
    "# as we are computing at annual level, we take 6 records filter\n",
    "ms = MobilitySummary(INDIA_VERASET_DELTA_LOCATION, admin, quality_filter=6, spark=spark)\n",
    "\n",
    "# filtering for just West Bengal\n",
    "ms.sjr = ms.sjr.filter(ms.sjr.adm1_code == '19')\n",
    "\n",
    "# computing number of unique devices in 2020\n",
    "adm_samples = ms.get_devices_per_admin(\"2020/01/01\", \"2020/12/31\")\n",
    "\n",
    "# converting to pandas DataFrame and saving it to further produce charts\n",
    "df = adm_samples.toPandas()\n",
    "df.to_csv('/dbfs/mnt/CUBEIQ/esapv/India/West Bengal/annual_unique_devices_per_admin_2020.csv', index=False)"
   ]
  },
  {
   "cell_type": "markdown",
   "metadata": {
    "application/vnd.databricks.v1+cell": {
     "inputWidgets": {},
     "nuid": "4a4a0ef5-b375-4218-a38e-79e86f5e3f67",
     "showTitle": false,
     "title": ""
    }
   },
   "source": [
    "### Unique devices per admin computation (Monthly)"
   ]
  },
  {
   "cell_type": "code",
   "execution_count": null,
   "metadata": {
    "application/vnd.databricks.v1+cell": {
     "inputWidgets": {},
     "nuid": "2f8cc09f-78f1-4a48-9f89-ad136dc267cd",
     "showTitle": false,
     "title": ""
    }
   },
   "outputs": [
    {
     "data": {
      "text/html": [
       "<style scoped>\n",
       "  .ansiout {\n",
       "    display: block;\n",
       "    unicode-bidi: embed;\n",
       "    white-space: pre-wrap;\n",
       "    word-wrap: break-word;\n",
       "    word-break: break-all;\n",
       "    font-family: \"Source Code Pro\", \"Menlo\", monospace;;\n",
       "    font-size: 13px;\n",
       "    color: #555;\n",
       "    margin-left: 4px;\n",
       "    line-height: 19px;\n",
       "  }\n",
       "</style>\n",
       "<div class=\"ansiout\"></div>"
      ]
     },
     "metadata": {
      "application/vnd.databricks.v1+output": {
       "addedWidgets": {},
       "arguments": {},
       "data": "<div class=\"ansiout\"></div>",
       "datasetInfos": [
        {
         "name": "adm_samples",
         "schema": {
          "fields": [
           {
            "metadata": {},
            "name": "adm2_code",
            "nullable": true,
            "type": "string"
           },
           {
            "metadata": {},
            "name": "unique_devices",
            "nullable": false,
            "type": "long"
           }
          ],
          "type": "struct"
         },
         "tableIdentifier": null,
         "typeStr": "pyspark.sql.dataframe.DataFrame"
        }
       ],
       "metadata": {},
       "removedWidgets": [],
       "type": "html"
      }
     },
     "output_type": "display_data"
    }
   ],
   "source": [
    "# admin level at which we are computing number of unique devices\n",
    "admin = \"adm2_code\"\n",
    "\n",
    "# create instance of MobilitySummary\n",
    "# we are using 3 records filter as it is monthly analysis\n",
    "ms = MobilitySummary(INDIA_VERASET_DELTA_LOCATION, admin, quality_filter=3, spark=spark)\n",
    "\n",
    "# filtering for just West Bengal\n",
    "ms.sjr = ms.sjr.filter(ms.sjr.adm1_code == '19')\n",
    "\n",
    "# pandas master dataframe to store all the months statistics   \n",
    "master_df = pd.DataFrame()\n",
    "\n",
    "# looping over all the months, January to December\n",
    "for i in range(1, 13):\n",
    "  num_days = calendar.monthrange(2020, i)[1]\n",
    "  from_date = f\"2020/{str(i).zfill(2)}/01\"\n",
    "  to_date = f\"2020/{str(i).zfill(2)}/{num_days}\"\n",
    "  \n",
    "  # get number of unique devices per admin in the given interval range\n",
    "  adm_samples = ms.get_devices_per_admin(from_date, to_date)\n",
    "  \n",
    "  # convert spark dataframe to pandas dataframe and concat it in the master dataframe\n",
    "  df = adm_samples.toPandas()\n",
    "  df['month'] = i\n",
    "  \n",
    "  if master_df.empty:\n",
    "    master_df = df\n",
    "  else:\n",
    "    master_df = pd.concat([master_df, df])\n",
    "\n",
    "# export master dataframe\n",
    "master_df.to_csv('/dbfs/mnt/CUBEIQ/esapv/India/monthly_unique_devices_per_admin_2020.csv', index=False)"
   ]
  }
 ],
 "metadata": {
  "application/vnd.databricks.v1+notebook": {
   "dashboards": [],
   "language": "python",
   "notebookMetadata": {
    "pythonIndentUnit": 2
   },
   "notebookName": "01 Records Frequency and Sample Size",
   "notebookOrigID": 2381087211507870,
   "widgets": {}
  },
  "kernelspec": {
   "display_name": "Python 3",
   "language": "python",
   "name": "python3"
  },
  "language_info": {
   "codemirror_mode": {
    "name": "ipython",
    "version": 3
   },
   "file_extension": ".py",
   "mimetype": "text/x-python",
   "name": "python",
   "nbconvert_exporter": "python",
   "pygments_lexer": "ipython3",
   "version": "3.8.6"
  }
 },
 "nbformat": 4,
 "nbformat_minor": 4
}
